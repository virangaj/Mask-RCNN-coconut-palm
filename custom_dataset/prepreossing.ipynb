{
 "cells": [
  {
   "cell_type": "code",
   "execution_count": 1,
   "metadata": {},
   "outputs": [],
   "source": [
    "import os \n",
    "import glob\n",
    "import random"
   ]
  },
  {
   "cell_type": "code",
   "execution_count": 2,
   "metadata": {},
   "outputs": [],
   "source": [
    "\n",
    "images_dir='data/images'\n",
    "annotpath_dir='data/annots'"
   ]
  },
  {
   "cell_type": "code",
   "execution_count": 3,
   "metadata": {},
   "outputs": [],
   "source": [
    "imagepath_list = glob.glob(os.path.join(images_dir, '*.jpg'))\n",
    "random.Random(42).shuffle(imagepath_list)\n",
    "\n",
    "padding = len(str(len(imagepath_list)))\n",
    "\n",
    "for n, filepath in enumerate(imagepath_list, 1):\n",
    "    os.rename(filepath, os.path.join(images_dir, '{:>0{}}.jpg'.format(n, padding)))\n",
    "    \n",
    "    \n",
    "    \n",
    "annotpath_list = glob.glob(os.path.join(annotpath_dir, '*.xml'))\n",
    "random.Random(42).shuffle(annotpath_list)\n",
    "\n",
    "\n",
    "for m, filepath in enumerate(annotpath_list, 1):\n",
    "    os.rename(filepath, os.path.join(annotpath_dir, '{:>0{}}.xml'.format(m, padding)))\n",
    "    \n",
    "    "
   ]
  }
 ],
 "metadata": {
  "kernelspec": {
   "display_name": "mask-rcnn",
   "language": "python",
   "name": "python3"
  },
  "language_info": {
   "codemirror_mode": {
    "name": "ipython",
    "version": 3
   },
   "file_extension": ".py",
   "mimetype": "text/x-python",
   "name": "python",
   "nbconvert_exporter": "python",
   "pygments_lexer": "ipython3",
   "version": "3.7.11"
  },
  "orig_nbformat": 4
 },
 "nbformat": 4,
 "nbformat_minor": 2
}
