{
 "cells": [
  {
   "cell_type": "code",
   "execution_count": 18,
   "metadata": {},
   "outputs": [],
   "source": [
    "import os\n",
    "import pandas as pd\n",
    "import xml.etree.ElementTree as ET"
   ]
  },
  {
   "cell_type": "code",
   "execution_count": 13,
   "metadata": {},
   "outputs": [],
   "source": [
    "# Define a function to parse XML and extract the required data\n",
    "def parse_xml(xml_file, filename):\n",
    "    tree = ET.parse(xml_file)\n",
    "    root = tree.getroot()\n",
    "\n",
    "    data = []\n",
    "    \n",
    "    for obj in root.findall('.//object'):\n",
    "        Image_id = filename\n",
    "        label = obj.find('name').text\n",
    "        x1 = obj.find('bndbox/xmin').text\n",
    "        y1 = obj.find('bndbox/ymin').text\n",
    "        x2 = obj.find('bndbox/xmax').text\n",
    "        y2 = obj.find('bndbox/ymax').text\n",
    "\n",
    "        data.append([Image_id, label, x1, y1, x2, y2])\n",
    "\n",
    "    return data"
   ]
  },
  {
   "cell_type": "code",
   "execution_count": 14,
   "metadata": {},
   "outputs": [],
   "source": [
    "# Specify the folder containing your XML files\n",
    "xml_folder = 'F:\\\\AI ML DL Projects\\\\Supports\\\\Mask-RCNN-TF2\\\\custom_dataset\\\\data\\\\annots'"
   ]
  },
  {
   "cell_type": "code",
   "execution_count": 15,
   "metadata": {},
   "outputs": [],
   "source": [
    "# Initialize an empty list to store all data\n",
    "all_data = []"
   ]
  },
  {
   "cell_type": "code",
   "execution_count": 16,
   "metadata": {},
   "outputs": [
    {
     "name": "stdout",
     "output_type": "stream",
     "text": [
      "Excel file saved as output.xlsx\n"
     ]
    }
   ],
   "source": [
    "\n",
    "# Iterate through XML files in the folder\n",
    "for filename in os.listdir(xml_folder):\n",
    "    if filename.endswith('.xml'):\n",
    "        xml_file = os.path.join(xml_folder, filename)\n",
    "        data = parse_xml(xml_file, filename)\n",
    "        all_data.extend(data)\n",
    "\n",
    "# Create a pandas DataFrame\n",
    "df = pd.DataFrame(all_data, columns=['Filename', 'label', 'Xmin', 'Ymin', 'Xmax', 'Ymax'])\n",
    "\n",
    "# Save the DataFrame to an Excel file\n",
    "excel_file = 'output.xlsx'\n",
    "df.to_excel(excel_file, index=False)\n",
    "\n",
    "print(f'Excel file saved as {excel_file}')"
   ]
  }
 ],
 "metadata": {
  "kernelspec": {
   "display_name": "Python 3",
   "language": "python",
   "name": "python3"
  },
  "language_info": {
   "codemirror_mode": {
    "name": "ipython",
    "version": 3
   },
   "file_extension": ".py",
   "mimetype": "text/x-python",
   "name": "python",
   "nbconvert_exporter": "python",
   "pygments_lexer": "ipython3",
   "version": "3.11.4"
  },
  "orig_nbformat": 4
 },
 "nbformat": 4,
 "nbformat_minor": 2
}
